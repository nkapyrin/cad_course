{
  "nbformat": 4,
  "nbformat_minor": 0,
  "metadata": {
    "colab": {
      "name": "cad_lab_codestyle.ipynb",
      "version": "0.3.2",
      "provenance": [],
      "collapsed_sections": []
    },
    "kernelspec": {
      "name": "python3",
      "display_name": "Python 3"
    }
  },
  "cells": [
    {
      "metadata": {
        "id": "bw8RlOk2w42f",
        "colab_type": "text"
      },
      "cell_type": "markdown",
      "source": [
        "Создание документации и статический анализ\n",
        "======================================="
      ]
    },
    {
      "metadata": {
        "id": "CIKSMeO6xjxd",
        "colab_type": "text"
      },
      "cell_type": "markdown",
      "source": [
        "Скачаем интересующий нас код\n",
        "--------------------------------------------"
      ]
    },
    {
      "metadata": {
        "id": "ipnTaz15w3TQ",
        "colab_type": "code",
        "colab": {}
      },
      "cell_type": "code",
      "source": [
        "!rm -rf multiwii-firmware\n",
        "!git clone https://github.com/multiwii/multiwii-firmware"
      ],
      "execution_count": 0,
      "outputs": []
    },
    {
      "metadata": {
        "id": "CyKH4iTR7zW_",
        "colab_type": "text"
      },
      "cell_type": "markdown",
      "source": [
        "Применим стиль\n",
        "----------------------"
      ]
    },
    {
      "metadata": {
        "id": "f5S2Q5Z3eM4L",
        "colab_type": "code",
        "colab": {}
      },
      "cell_type": "code",
      "source": [
        "!apt install clang-format"
      ],
      "execution_count": 0,
      "outputs": []
    },
    {
      "metadata": {
        "id": "PdJqIytQeOhl",
        "colab_type": "code",
        "colab": {}
      },
      "cell_type": "code",
      "source": [
        "!cp -r multiwii-firmware multiwii-firmware.backup"
      ],
      "execution_count": 0,
      "outputs": []
    },
    {
      "metadata": {
        "id": "X2_EgSk49tYL",
        "colab_type": "code",
        "colab": {}
      },
      "cell_type": "code",
      "source": [
        "!echo \"BasedOnStyle: LLVM\" > .clang-format\n",
        "!echo \"IndentWidth: 4\" >> .clang-format\n",
        "#!echo \"IndentWidth: 8\" >> .clang-format\n",
        "#!echo \"AlignEscapedNewlines: DontAlign\" >> .clang-format\n",
        "#!echo \"AlignEscapedNewlines: Right\" >> .clang-format\n",
        "#!echo \"AllowShortIfStatementsOnASingleLine : false\" >> .clang-format"
      ],
      "execution_count": 0,
      "outputs": []
    },
    {
      "metadata": {
        "id": "UrLRV1BLD3Rk",
        "colab_type": "text"
      },
      "cell_type": "markdown",
      "source": [
        ""
      ]
    },
    {
      "metadata": {
        "id": "GBqel7UkgGZD",
        "colab_type": "text"
      },
      "cell_type": "markdown",
      "source": [
        "Применим форматирование ко всем файлам `.cpp`."
      ]
    },
    {
      "metadata": {
        "id": "LIXlAT-k4id5",
        "colab_type": "code",
        "colab": {}
      },
      "cell_type": "code",
      "source": [
        "!clang-format -i multiwii-firmware/*.cpp"
      ],
      "execution_count": 0,
      "outputs": []
    },
    {
      "metadata": {
        "id": "xEuyHujJgE5q",
        "colab_type": "text"
      },
      "cell_type": "markdown",
      "source": [
        "Сравним полученный результат с исходным."
      ]
    },
    {
      "metadata": {
        "id": "40IFQaaQ0zSm",
        "colab_type": "code",
        "colab": {}
      },
      "cell_type": "code",
      "source": [
        " !diff multiwii-firmware.backup/IMU.cpp multiwii-firmware/IMU.cpp | head -n 60"
      ],
      "execution_count": 0,
      "outputs": []
    },
    {
      "metadata": {
        "id": "ZWlE_v-NgTXI",
        "colab_type": "text"
      },
      "cell_type": "markdown",
      "source": [
        "**ЗАДАНИЕ: Найдите хотя бы три различия**"
      ]
    },
    {
      "metadata": {
        "id": "Nrk5z40_Hpqy",
        "colab_type": "text"
      },
      "cell_type": "markdown",
      "source": [
        "**ЗАДАНИЕ: Измените стиль согласно заданию**\n",
        "\n",
        "\n",
        "\n",
        "*  сделайте так, чтобы отступы блоков кода были равны 6 символов\n",
        "* сделайте так, чтобы директивы препроцессора вообще не отступали от левого края (IndentPPDirectives)\n",
        "* сделайте так, чтобы перед цепочкой инициализаторов не ставились пробелы (SpaceBeforeCtorInitializerColon)\n",
        "* сделайте так, чтобы форматирование допускало **однострочные** короткие циклы for/while (AllowShortLoopsOnASingleLine)\n",
        "\n",
        "\n",
        "см. [справку по clang](https://clang.llvm.org/docs/ClangFormatStyleOptions.html) ([ru](https://translate.google.com/translate?hl=ru&sl=en&u=https://clang.llvm.org/docs/ClangFormatStyleOptions.html&prev=search)) "
      ]
    },
    {
      "metadata": {
        "id": "E1ig7w4nxywF",
        "colab_type": "text"
      },
      "cell_type": "markdown",
      "source": [
        "Разберём код при помощи Doxygen\n",
        "-----------------------------------------------"
      ]
    },
    {
      "metadata": {
        "id": "QNrPHo8rVoWN",
        "colab_type": "text"
      },
      "cell_type": "markdown",
      "source": [
        "Поставим Doxygen"
      ]
    },
    {
      "metadata": {
        "id": "orN_uApbx2XN",
        "colab_type": "code",
        "colab": {}
      },
      "cell_type": "code",
      "source": [
        "!apt install doxygen"
      ],
      "execution_count": 0,
      "outputs": []
    },
    {
      "metadata": {
        "id": "eTWKh2wGVrZB",
        "colab_type": "text"
      },
      "cell_type": "markdown",
      "source": [
        "Создадим простой файл настроек для Doxygen,  в котором укажем выдавать нам только XML-вывод."
      ]
    },
    {
      "metadata": {
        "id": "v6Y84AsQyA3h",
        "colab_type": "code",
        "colab": {}
      },
      "cell_type": "code",
      "source": [
        "!echo \"GENERATE_XML = yes\" > Doxyfile\n",
        "!echo \"GENERATE_HTML = no\" >> Doxyfile\n",
        "!echo \"GENERATE_LATEX = no\" >> Doxyfile\n",
        "!echo \"INPUT = multiwii-firmware\" >> Doxyfile\n",
        "!echo \"QUIET = YES\" >> Doxyfile\n",
        "!cat Doxyfile"
      ],
      "execution_count": 0,
      "outputs": []
    },
    {
      "metadata": {
        "id": "Xwdr2txxgib4",
        "colab_type": "text"
      },
      "cell_type": "markdown",
      "source": [
        "Запустим обработку исходных файлов."
      ]
    },
    {
      "metadata": {
        "id": "ppV0kE7S0F2A",
        "colab_type": "code",
        "colab": {}
      },
      "cell_type": "code",
      "source": [
        "!doxygen Doxyfile 2>/dev/null"
      ],
      "execution_count": 0,
      "outputs": []
    },
    {
      "metadata": {
        "id": "Lob2oRlkVhBc",
        "colab_type": "text"
      },
      "cell_type": "markdown",
      "source": [
        "Проверим, что Doxygen сделал свою работу и теперь в папке XML находятся результаты анализа"
      ]
    },
    {
      "metadata": {
        "id": "cAjaS5fEynJk",
        "colab_type": "code",
        "colab": {}
      },
      "cell_type": "code",
      "source": [
        "#!ls xml/\n",
        "\n",
        "#!tar -czvf xml.tar.gz xml\n",
        "#from google.colab import files\n",
        "#files.download(\"xml.tar.gz\")"
      ],
      "execution_count": 0,
      "outputs": []
    },
    {
      "metadata": {
        "id": "IWUDJ3HrH_ch",
        "colab_type": "text"
      },
      "cell_type": "markdown",
      "source": [
        "Собираем из набора XML файлов которые создал Doxygen -- один общий файл анализа кода."
      ]
    },
    {
      "metadata": {
        "id": "MMaEqrKwXkwt",
        "colab_type": "code",
        "colab": {}
      },
      "cell_type": "code",
      "source": [
        "import lxml.etree as ET\n",
        "index = ET.parse('xml/index.xml')\n",
        "for f in index.xpath('/doxygenindex/compound[@kind=\"file\"]'):\n",
        "  contents = ET.parse(\"xml/\" + f.attrib['refid'] + \".xml\").find('compounddef')\n",
        "  f.append(contents)\n",
        "#ET.to_string(index)\n",
        "index.write('full_doxygen.xml', pretty_print=False)"
      ],
      "execution_count": 0,
      "outputs": []
    },
    {
      "metadata": {
        "id": "b7i6C4q1Z8Yy",
        "colab_type": "code",
        "colab": {}
      },
      "cell_type": "code",
      "source": [
        "from google.colab import files\n",
        "files.download(\"full_doxygen.xml\")"
      ],
      "execution_count": 0,
      "outputs": []
    },
    {
      "metadata": {
        "id": "PF5NAgCp0fY4",
        "colab_type": "text"
      },
      "cell_type": "markdown",
      "source": [
        "Орформатируем этот код\n",
        "----------------------------------"
      ]
    },
    {
      "metadata": {
        "id": "rHjYsr-WgsWQ",
        "colab_type": "text"
      },
      "cell_type": "markdown",
      "source": [
        "Скачиваем стиль."
      ]
    },
    {
      "metadata": {
        "id": "SiXmjc-3eIUh",
        "colab_type": "code",
        "colab": {}
      },
      "cell_type": "code",
      "source": [
        "!wget https://raw.githubusercontent.com/nkapyrin/cad_course/master/lab_04/xelatex_document_template.xsl"
      ],
      "execution_count": 0,
      "outputs": []
    },
    {
      "metadata": {
        "id": "IVSXiNuUjYzB",
        "colab_type": "text"
      },
      "cell_type": "markdown",
      "source": [
        "Если папка для сборки документа уже существует, её нужно будет удалить чтобы скачать в неё конфигурацию для TeX."
      ]
    },
    {
      "metadata": {
        "id": "tuNIXRUPjPxy",
        "colab_type": "code",
        "colab": {}
      },
      "cell_type": "code",
      "source": [
        "!rm -rf tex\n",
        "!wget https://github.com/nkapyrin/cad_course/raw/master/lab_04/tex.zip\n",
        "!unzip tex.zip -d tex\n",
        "#!ls tex"
      ],
      "execution_count": 0,
      "outputs": []
    },
    {
      "metadata": {
        "id": "KrFTTF1WguVR",
        "colab_type": "code",
        "colab": {}
      },
      "cell_type": "code",
      "source": [
        "!xsltproc -o tex/document.tex xelatex_document_template.xsl full_doxygen.xml"
      ],
      "execution_count": 0,
      "outputs": []
    },
    {
      "metadata": {
        "id": "DDxur9mdhOQN",
        "colab_type": "code",
        "colab": {}
      },
      "cell_type": "code",
      "source": [
        "!tar -czvf tex.tar.gz tex\n",
        "from google.colab import files\n",
        "files.download(\"tex.tar.gz\")"
      ],
      "execution_count": 0,
      "outputs": []
    },
    {
      "metadata": {
        "id": "1nwn9RzAU8xe",
        "colab_type": "text"
      },
      "cell_type": "markdown",
      "source": [
        "Вот и всё\n",
        "------------------------------------"
      ]
    }
  ]
}
